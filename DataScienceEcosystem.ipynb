{
 "cells": [
  {
   "cell_type": "markdown",
   "id": "155c9c29-8de0-46fb-871a-ebfba70d31d5",
   "metadata": {},
   "source": [
    "# Data Science Tools and Ecosystem"
   ]
  },
  {
   "cell_type": "markdown",
   "id": "c85d1e9c-3bea-4603-a3aa-9015e2d4f5c4",
   "metadata": {},
   "source": [
    "In this notebook, Data Science Tools and Ecosystem are summarized."
   ]
  },
  {
   "cell_type": "markdown",
   "id": "6fd949f0-0b83-4636-850f-a7ff0e61c0b1",
   "metadata": {
    "tags": []
   },
   "source": [
    "## OBJECTIVES"
   ]
  },
  {
   "cell_type": "markdown",
   "id": "6e195c40-2f98-4b32-a996-a95614175744",
   "metadata": {},
   "source": [
    "List popular languages for Data Science"
   ]
  },
  {
   "cell_type": "code",
   "execution_count": 36,
   "id": "17d2c091-58d2-492a-abc1-891f07f76e2c",
   "metadata": {},
   "outputs": [
    {
     "name": "stdout",
     "output_type": "stream",
     "text": [
      "Python julia Scala R\n"
     ]
    }
   ],
   "source": [
    "print(\"Python\", \"julia\", \"Scala\",\"R\")"
   ]
  },
  {
   "cell_type": "code",
   "execution_count": null,
   "id": "f3b1a9ed-8b37-42b0-9e00-7af17155678e",
   "metadata": {},
   "outputs": [],
   "source": []
  },
  {
   "cell_type": "code",
   "execution_count": null,
   "id": "e9448b94-40b1-4bf4-a37c-f321a333926b",
   "metadata": {},
   "outputs": [],
   "source": []
  },
  {
   "cell_type": "markdown",
   "id": "d1451e4a-1729-4d6b-8010-ebbd0a5f6f70",
   "metadata": {},
   "source": [
    "Some of the popular languages that Data Scientists use are:"
   ]
  },
  {
   "cell_type": "code",
   "execution_count": 14,
   "id": "27b9d006-ecf9-4d16-82a9-1f8d19d64205",
   "metadata": {
    "tags": []
   },
   "outputs": [
    {
     "name": "stdout",
     "output_type": "stream",
     "text": [
      "1.Python\n"
     ]
    }
   ],
   "source": [
    "print(\"1.Python\")"
   ]
  },
  {
   "cell_type": "code",
   "execution_count": 16,
   "id": "d1c4d81f-6eaf-4a31-a1e6-bf3a96e93e7c",
   "metadata": {},
   "outputs": [
    {
     "name": "stdout",
     "output_type": "stream",
     "text": [
      "2. R\n"
     ]
    }
   ],
   "source": [
    "print(\"2. R\")"
   ]
  },
  {
   "cell_type": "markdown",
   "id": "25025820-e50b-4991-b908-2a5cb0f7fc2a",
   "metadata": {},
   "source": [
    "Some of the commonly used libraries used by Data Scientists include:"
   ]
  },
  {
   "cell_type": "code",
   "execution_count": null,
   "id": "dc911e95-d28a-4d76-8477-e67d40403a12",
   "metadata": {},
   "outputs": [
    {
     "name": "stdout",
     "output_type": "stream",
     "text": [
      "3. Scala\n"
     ]
    }
   ],
   "source": [
    "print(\"3. Scala\")"
   ]
  },
  {
   "cell_type": "markdown",
   "id": "64da0b98-4c95-4ad7-b52b-34f26fcd4428",
   "metadata": {},
   "source": [
    "#### \"Apache Spark\"\n",
    "#### \"numPy\"\n",
    "#### \"panda\"\n",
    "#### \"Scikit\"\n",
    "#### \"tensorFlow\"\n",
    "#### \"Seaborn\""
   ]
  },
  {
   "cell_type": "markdown",
   "id": "c2943e4e-2a00-4edc-bc25-def10e221d59",
   "metadata": {},
   "source": [
    "|Data Science Tools|\n",
    "|RStudio|\n",
    "|Anaconda|\n",
    "|GitHub|\n"
   ]
  },
  {
   "cell_type": "markdown",
   "id": "d2981683-09b4-453e-aea6-05d4e3628467",
   "metadata": {},
   "source": [
    "|Data Science Tools|\n",
    "|---|\n",
    "|RStudio|\n",
    "|Anaconda|\n",
    "|GitHub|"
   ]
  },
  {
   "cell_type": "markdown",
   "id": "61cc9f87-2555-4e47-b2c3-7f4488407aec",
   "metadata": {},
   "source": [
    "### Below are a few examples of evaluating arithmetic expressions in Python"
   ]
  },
  {
   "cell_type": "markdown",
   "id": "8faa41f5-182e-4717-90df-b1b3ebbf7474",
   "metadata": {},
   "source": [
    "This a simple arithmetic expression to mutiply then add integers"
   ]
  },
  {
   "cell_type": "code",
   "execution_count": 34,
   "id": "bf11f852-d3b8-4b01-b697-8f68d1f6d9d5",
   "metadata": {},
   "outputs": [
    {
     "name": "stdout",
     "output_type": "stream",
     "text": [
      "17\n"
     ]
    }
   ],
   "source": [
    "print(3*4+5)"
   ]
  },
  {
   "cell_type": "markdown",
   "id": "33a5fefa-483a-4ef3-9548-fc79802e56c0",
   "metadata": {},
   "source": [
    "This will convert 200 minutes to hours by diving by 60"
   ]
  },
  {
   "cell_type": "code",
   "execution_count": 35,
   "id": "93114b0f-4d40-4dee-bc83-447876928f32",
   "metadata": {},
   "outputs": [
    {
     "name": "stdout",
     "output_type": "stream",
     "text": [
      "3.3333333333333335\n"
     ]
    }
   ],
   "source": [
    "print(200/60)"
   ]
  },
  {
   "cell_type": "markdown",
   "id": "66ceb85d-73b8-47f8-bd15-d9ac7bd88927",
   "metadata": {},
   "source": [
    "## Author"
   ]
  },
  {
   "cell_type": "markdown",
   "id": "def910bf-0403-4f50-bbf4-38c3d622fad1",
   "metadata": {},
   "source": [
    "### Zlatko Dzigal"
   ]
  },
  {
   "cell_type": "code",
   "execution_count": null,
   "id": "f880798d-2810-44ed-920c-9726680bb07e",
   "metadata": {},
   "outputs": [],
   "source": []
  }
 ],
 "metadata": {
  "kernelspec": {
   "display_name": "Python",
   "language": "python",
   "name": "conda-env-python-py"
  },
  "language_info": {
   "codemirror_mode": {
    "name": "ipython",
    "version": 3
   },
   "file_extension": ".py",
   "mimetype": "text/x-python",
   "name": "python",
   "nbconvert_exporter": "python",
   "pygments_lexer": "ipython3",
   "version": "3.7.12"
  }
 },
 "nbformat": 4,
 "nbformat_minor": 5
}
